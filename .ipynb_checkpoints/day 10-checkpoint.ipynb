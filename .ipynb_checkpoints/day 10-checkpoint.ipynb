{
 "cells": [
  {
   "cell_type": "code",
   "execution_count": 1,
   "id": "085e1fed",
   "metadata": {},
   "outputs": [
    {
     "name": "stdout",
     "output_type": "stream",
     "text": [
      "Ashu\n",
      "Shivani\n"
     ]
    }
   ],
   "source": [
    "def format_name(fname,lname):\n",
    "  print(fname.title())\n",
    "  print(  lname.title())\n",
    "format_name(\"ashu\",\"Shivani\")"
   ]
  },
  {
   "cell_type": "code",
   "execution_count": 2,
   "id": "3b2ad6f5",
   "metadata": {},
   "outputs": [
    {
     "name": "stdout",
     "output_type": "stream",
     "text": [
      "Your first name: Shivani\n",
      "Your last name: Pednekar\n",
      "None\n",
      "What is your first name? Shivani\n",
      "What is your last name? pednekar\n",
      "None\n"
     ]
    },
    {
     "ename": "TypeError",
     "evalue": "object of type 'NoneType' has no len()",
     "output_type": "error",
     "traceback": [
      "\u001b[1;31m---------------------------------------------------------------------------\u001b[0m",
      "\u001b[1;31mTypeError\u001b[0m                                 Traceback (most recent call last)",
      "\u001b[1;32m<ipython-input-2-3d8fc8ddfc26>\u001b[0m in \u001b[0;36m<module>\u001b[1;34m\u001b[0m\n\u001b[0;32m     14\u001b[0m \u001b[1;33m\u001b[0m\u001b[0m\n\u001b[0;32m     15\u001b[0m \u001b[1;31m#Already used functions with outputs.\u001b[0m\u001b[1;33m\u001b[0m\u001b[1;33m\u001b[0m\u001b[1;33m\u001b[0m\u001b[0m\n\u001b[1;32m---> 16\u001b[1;33m \u001b[0mlength\u001b[0m \u001b[1;33m=\u001b[0m \u001b[0mlen\u001b[0m\u001b[1;33m(\u001b[0m\u001b[0mformatted_name\u001b[0m\u001b[1;33m)\u001b[0m\u001b[1;33m\u001b[0m\u001b[1;33m\u001b[0m\u001b[0m\n\u001b[0m\u001b[0;32m     17\u001b[0m \u001b[1;33m\u001b[0m\u001b[0m\n\u001b[0;32m     18\u001b[0m \u001b[1;31m#Return as an early exit\u001b[0m\u001b[1;33m\u001b[0m\u001b[1;33m\u001b[0m\u001b[1;33m\u001b[0m\u001b[0m\n",
      "\u001b[1;31mTypeError\u001b[0m: object of type 'NoneType' has no len()"
     ]
    }
   ],
   "source": [
    "#Functions with Outputs\n",
    "def format_name(f_name, l_name):\n",
    "  if f_name == \"\" or l_name == \"\":\n",
    "    return \"You didn't provide valid inputs.\"\n",
    "  formated_f_name = f_name.title()\n",
    "  formated_l_name = l_name.title()\n",
    "  f\"Result: {formated_f_name} {formated_l_name}\"\n",
    "\n",
    "#Storing output in a variable\n",
    "formatted_name = format_name(input(\"Your first name: \"), input(\"Your last name: \"))\n",
    "print(formatted_name)\n",
    "#or printing output directly\n",
    "print(format_name(input(\"What is your first name? \"), input(\"What is your last name? \")))\n",
    "\n",
    "#Already used functions with outputs.\n",
    "length = len(formatted_name)\n",
    "\n",
    "#Return as an early exit\n",
    "def format_name(f_name, l_name):\n",
    "  \"\"\"Take a first and last name and format it \n",
    "  to return the title case version of the name.\"\"\"\n",
    "  if f_name == \"\" or l_name == \"\":\n",
    "    return \"You didn't provide valid inputs.\"\n",
    "  formated_f_name = f_name.title()\n",
    "  formated_l_name = l_name.title()\n",
    "  return f\"Result: {formated_f_name} {formated_l_name}\"\n",
    "\n",
    "\n"
   ]
  },
  {
   "cell_type": "code",
   "execution_count": 3,
   "id": "652a6a4d",
   "metadata": {},
   "outputs": [
    {
     "name": "stdout",
     "output_type": "stream",
     "text": [
      "Enter a year: 2020\n",
      "Enter a month: 3\n",
      "31\n"
     ]
    }
   ],
   "source": [
    "def is_leap(year):\n",
    "  if year % 4 == 0:\n",
    "    if year % 100 == 0:\n",
    "      if year % 400 == 0:\n",
    "        return True\n",
    "      else:\n",
    "        return False\n",
    "    else:\n",
    "        return True\n",
    "  else:\n",
    "    return False\n",
    "    \n",
    "def days_in_month(year, month):\n",
    "  month_days = [31, 28, 31, 30, 31, 30, 31, 31, 30, 31, 30, 31]\n",
    "  if month > 12 or month < 1:\n",
    "    return \"Invalid month entered.\"\n",
    "  if month == 2 and is_leap(year):\n",
    "    return 29\n",
    "  return month_days[month - 1]\n",
    "\n",
    "\n",
    "\n",
    "#Do NOT change any of the code below 👇\n",
    "year = int(input(\"Enter a year: \"))\n",
    "month = int(input(\"Enter a month: \"))\n",
    "days = days_in_month(year, month)\n",
    "print(days)\n"
   ]
  },
  {
   "cell_type": "code",
   "execution_count": 4,
   "id": "b049c1cb",
   "metadata": {},
   "outputs": [
    {
     "ename": "ModuleNotFoundError",
     "evalue": "No module named 'replit'",
     "output_type": "error",
     "traceback": [
      "\u001b[1;31m---------------------------------------------------------------------------\u001b[0m",
      "\u001b[1;31mModuleNotFoundError\u001b[0m                       Traceback (most recent call last)",
      "\u001b[1;32m<ipython-input-4-7a89ddb8b424>\u001b[0m in \u001b[0;36m<module>\u001b[1;34m\u001b[0m\n\u001b[1;32m----> 1\u001b[1;33m \u001b[1;32mfrom\u001b[0m \u001b[0mreplit\u001b[0m \u001b[1;32mimport\u001b[0m \u001b[0mclear\u001b[0m\u001b[1;33m\u001b[0m\u001b[1;33m\u001b[0m\u001b[0m\n\u001b[0m\u001b[0;32m      2\u001b[0m \u001b[1;32mfrom\u001b[0m \u001b[0mart\u001b[0m \u001b[1;32mimport\u001b[0m \u001b[0mlogo\u001b[0m\u001b[1;33m\u001b[0m\u001b[1;33m\u001b[0m\u001b[0m\n\u001b[0;32m      3\u001b[0m \u001b[1;33m\u001b[0m\u001b[0m\n\u001b[0;32m      4\u001b[0m \u001b[1;32mdef\u001b[0m \u001b[0madd\u001b[0m\u001b[1;33m(\u001b[0m\u001b[0mn1\u001b[0m\u001b[1;33m,\u001b[0m \u001b[0mn2\u001b[0m\u001b[1;33m)\u001b[0m\u001b[1;33m:\u001b[0m\u001b[1;33m\u001b[0m\u001b[1;33m\u001b[0m\u001b[0m\n\u001b[0;32m      5\u001b[0m   \u001b[1;32mreturn\u001b[0m \u001b[0mn1\u001b[0m \u001b[1;33m+\u001b[0m \u001b[0mn2\u001b[0m\u001b[1;33m\u001b[0m\u001b[1;33m\u001b[0m\u001b[0m\n",
      "\u001b[1;31mModuleNotFoundError\u001b[0m: No module named 'replit'"
     ]
    }
   ],
   "source": [
    "from replit import clear\n",
    "from art import logo\n",
    "\n",
    "def add(n1, n2):\n",
    "  return n1 + n2\n",
    "\n",
    "def subtract(n1, n2):\n",
    "  return n1 - n2\n",
    "\n",
    "def multiply(n1, n2):\n",
    "  return n1 * n2\n",
    "\n",
    "def divide(n1, n2):\n",
    "  return n1 / n2\n",
    "\n",
    "operations = {\n",
    "  \"+\": add,\n",
    "  \"-\": subtract,\n",
    "  \"*\": multiply,\n",
    "  \"/\": divide\n",
    "}\n",
    "\n",
    "def calculator():\n",
    "  print(logo)\n",
    "\n",
    "  num1 = float(input(\"What's the first number?: \"))\n",
    "  for symbol in operations:\n",
    "    print(symbol)\n",
    "  should_continue = True\n",
    " \n",
    "  while should_continue:\n",
    "    operation_symbol = input(\"Pick an operation: \")\n",
    "    num2 = float(input(\"What's the next number?: \"))\n",
    "    calculation_function = operations[operation_symbol]\n",
    "    answer = calculation_function(num1, num2)\n",
    "    print(f\"{num1} {operation_symbol} {num2} = {answer}\")\n",
    "\n",
    "    if input(f\"Type 'y' to continue calculating with {answer}, or type 'n' to start a new calculation: \") == 'y':\n",
    "      num1 = answer\n",
    "    else:\n",
    "      should_continue = False\n",
    "      clear()\n",
    "      calculator()\n",
    "\n",
    "calculator()\n"
   ]
  },
  {
   "cell_type": "code",
   "execution_count": null,
   "id": "e393ac59",
   "metadata": {},
   "outputs": [],
   "source": []
  }
 ],
 "metadata": {
  "kernelspec": {
   "display_name": "Python 3",
   "language": "python",
   "name": "python3"
  },
  "language_info": {
   "codemirror_mode": {
    "name": "ipython",
    "version": 3
   },
   "file_extension": ".py",
   "mimetype": "text/x-python",
   "name": "python",
   "nbconvert_exporter": "python",
   "pygments_lexer": "ipython3",
   "version": "3.8.8"
  }
 },
 "nbformat": 4,
 "nbformat_minor": 5
}
