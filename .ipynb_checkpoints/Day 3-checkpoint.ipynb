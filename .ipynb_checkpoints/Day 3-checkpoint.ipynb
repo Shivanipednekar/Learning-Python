{
 "cells": [
  {
   "cell_type": "code",
   "execution_count": 2,
   "id": "66604994",
   "metadata": {},
   "outputs": [
    {
     "name": "stdout",
     "output_type": "stream",
     "text": [
      "Hello, This is my first code in jupiter \n"
     ]
    }
   ],
   "source": [
    "print(\"Hello, This is my first code in jupiter \")\n",
    "      "
   ]
  },
  {
   "cell_type": "code",
   "execution_count": 3,
   "id": "9e041b58",
   "metadata": {},
   "outputs": [
    {
     "name": "stdout",
     "output_type": "stream",
     "text": [
      "Welcome to the rollercoaster!\n",
      "What is your height in cm? 250\n",
      "Can ride\n"
     ]
    }
   ],
   "source": [
    "#if and else\n",
    "print(\"Welcome to the rollercoaster!\")\n",
    "height = int(input(\"What is your height in cm? \"))\n",
    "if height>120:\n",
    "  print(\"Can ride\")\n",
    "else:\n",
    "  print(\"cant ride\")\n"
   ]
  },
  {
   "cell_type": "code",
   "execution_count": 4,
   "id": "acd307ab",
   "metadata": {},
   "outputs": [
    {
     "name": "stdout",
     "output_type": "stream",
     "text": [
      "Which number do you want to check? 25\n",
      "odd number\n"
     ]
    }
   ],
   "source": [
    "#odd even\n",
    "\n",
    "number = int(input(\"Which number do you want to check? \"))\n",
    "\n",
    "if number%2==0:\n",
    "  print(\"Even number\")\n",
    "else:\n",
    "  print(\"odd number\")\n",
    "\n",
    "\n"
   ]
  },
  {
   "cell_type": "code",
   "execution_count": 1,
   "id": "30c5a3a5",
   "metadata": {},
   "outputs": [
    {
     "name": "stdout",
     "output_type": "stream",
     "text": [
      "enter your height in m: 2\n",
      "enter your weight in kg: 80\n"
     ]
    },
    {
     "ename": "TypeError",
     "evalue": "unsupported operand type(s) for &: 'float' and 'float'",
     "output_type": "error",
     "traceback": [
      "\u001b[1;31m---------------------------------------------------------------------------\u001b[0m",
      "\u001b[1;31mTypeError\u001b[0m                                 Traceback (most recent call last)",
      "\u001b[1;32m<ipython-input-1-0f298c5cb3f6>\u001b[0m in \u001b[0;36m<module>\u001b[1;34m\u001b[0m\n\u001b[0;32m      9\u001b[0m \u001b[1;32mif\u001b[0m \u001b[0mbmi\u001b[0m\u001b[1;33m<\u001b[0m\u001b[1;36m18.5\u001b[0m\u001b[1;33m:\u001b[0m\u001b[1;33m\u001b[0m\u001b[1;33m\u001b[0m\u001b[0m\n\u001b[0;32m     10\u001b[0m   \u001b[0mprint\u001b[0m\u001b[1;33m(\u001b[0m\u001b[1;34m\"underweight\"\u001b[0m\u001b[1;33m)\u001b[0m\u001b[1;33m\u001b[0m\u001b[1;33m\u001b[0m\u001b[0m\n\u001b[1;32m---> 11\u001b[1;33m \u001b[1;32melif\u001b[0m \u001b[0mbmi\u001b[0m\u001b[1;33m>\u001b[0m\u001b[1;36m18.5\u001b[0m \u001b[1;33m&\u001b[0m \u001b[0mbmi\u001b[0m\u001b[1;33m<\u001b[0m\u001b[1;36m25\u001b[0m\u001b[1;33m:\u001b[0m\u001b[1;33m\u001b[0m\u001b[1;33m\u001b[0m\u001b[0m\n\u001b[0m\u001b[0;32m     12\u001b[0m   \u001b[0mprint\u001b[0m\u001b[1;33m(\u001b[0m\u001b[1;34m\"normal\"\u001b[0m\u001b[1;33m)\u001b[0m\u001b[1;33m\u001b[0m\u001b[1;33m\u001b[0m\u001b[0m\n\u001b[0;32m     13\u001b[0m \u001b[1;32melif\u001b[0m \u001b[0mbmi\u001b[0m\u001b[1;33m>\u001b[0m\u001b[1;36m25\u001b[0m \u001b[1;33m&\u001b[0m \u001b[0mbmi\u001b[0m\u001b[1;33m<\u001b[0m\u001b[1;36m30\u001b[0m\u001b[1;33m:\u001b[0m\u001b[1;33m\u001b[0m\u001b[1;33m\u001b[0m\u001b[0m\n",
      "\u001b[1;31mTypeError\u001b[0m: unsupported operand type(s) for &: 'float' and 'float'"
     ]
    }
   ],
   "source": [
    "#BMI\n",
    "\n",
    "height = float(input(\"enter your height in m: \"))\n",
    "weight = float(input(\"enter your weight in kg: \"))\n",
    "\n",
    "\n",
    "bmi=weight/(height**2)\n",
    "\n",
    "if bmi<18.5:\n",
    "  print(\"underweight\")\n",
    "elif bmi>18.5 & bmi<25:\n",
    "  print(\"normal\")\n",
    "elif bmi>25 & bmi<30:\n",
    "  print(\"slightly overweight\")\n"
   ]
  },
  {
   "cell_type": "code",
   "execution_count": 2,
   "id": "09529ba5",
   "metadata": {},
   "outputs": [
    {
     "name": "stdout",
     "output_type": "stream",
     "text": [
      "Which year do you want to check? 2020\n",
      "Leap year.\n"
     ]
    }
   ],
   "source": [
    "# 🚨 Don't change the code below 👇\n",
    "year = int(input(\"Which year do you want to check? \"))\n",
    "# 🚨 Don't change the code above 👆\n",
    "\n",
    "\n",
    "if year % 4 == 0:\n",
    "  if year % 100 == 0:\n",
    "    if year % 400 == 0:\n",
    "      print(\"Leap year.\")\n",
    "    else:\n",
    "      print(\"Not leap year.\")\n",
    "  else:\n",
    "    print(\"Leap year.\")\n",
    "else:\n",
    "  print(\"Not leap year.\")\n",
    "  \n",
    "\n",
    "\n",
    "\n",
    "\n",
    "\n",
    "\n",
    "\n",
    "\n",
    "\n"
   ]
  },
  {
   "cell_type": "code",
   "execution_count": 3,
   "id": "0def1344",
   "metadata": {},
   "outputs": [
    {
     "name": "stdout",
     "output_type": "stream",
     "text": [
      "Welcome to Python Pizza Deliveries!\n",
      "What size pizza do you want? S, M, or L S\n",
      "Do you want pepperoni? Y or N Y\n",
      "Do you want extra cheese? Y or N Y\n",
      "Your final bill is: $18.\n"
     ]
    }
   ],
   "source": [
    "#Pizza bill\n",
    "\n",
    "# 🚨 Don't change the code below 👇\n",
    "print(\"Welcome to Python Pizza Deliveries!\")\n",
    "size = input(\"What size pizza do you want? S, M, or L \")\n",
    "add_pepperoni = input(\"Do you want pepperoni? Y or N \")\n",
    "extra_cheese = input(\"Do you want extra cheese? Y or N \")\n",
    "# 🚨 Don't change the code above 👆\n",
    "\n",
    "#Write your code below this line 👇\n",
    "\n",
    "bill = 0\n",
    "\n",
    "if size == \"S\":\n",
    "  bill += 15\n",
    "elif size == \"M\":\n",
    "  bill += 20\n",
    "else:\n",
    "  bill += 25\n",
    "\n",
    "if add_pepperoni == \"Y\":\n",
    "  if size == \"S\":\n",
    "    bill += 2\n",
    "  else:\n",
    "    bill += 3\n",
    "    \n",
    "if extra_cheese == \"Y\":\n",
    "  bill += 1\n",
    "  \n",
    "print(f\"Your final bill is: ${bill}.\")"
   ]
  },
  {
   "cell_type": "code",
   "execution_count": 4,
   "id": "49da2525",
   "metadata": {},
   "outputs": [
    {
     "name": "stdout",
     "output_type": "stream",
     "text": [
      "Welcome to the Love Calculator!\n",
      "What is your name? \n",
      "Shivani\n",
      "What is their name? \n",
      "laptop\n",
      "Your score is 13.\n"
     ]
    }
   ],
   "source": [
    "#Love calculator\n",
    "# 🚨 Don't change the code below 👇\n",
    "print(\"Welcome to the Love Calculator!\")\n",
    "name1 = input(\"What is your name? \\n\")\n",
    "name2 = input(\"What is their name? \\n\")\n",
    "# 🚨 Don't change the code above 👆\n",
    "\n",
    "#Write your code below this line 👇\n",
    "\n",
    "combined_names = name1 + name2\n",
    "lower_names = combined_names.lower()\n",
    "t = lower_names.count(\"t\")\n",
    "r = lower_names.count(\"r\")\n",
    "u = lower_names.count(\"u\")\n",
    "e = lower_names.count(\"e\")\n",
    "first_digit = t + r + u + e\n",
    "\n",
    "l = lower_names.count(\"l\")\n",
    "o = lower_names.count(\"o\")\n",
    "v = lower_names.count(\"v\")\n",
    "e = lower_names.count(\"e\")\n",
    "second_digit = l + o + v + e\n",
    "\n",
    "score = int(str(first_digit) + str(second_digit))\n",
    "\n",
    "if (score < 10) or (score > 90):\n",
    "  print(f\"Your score is {score}, you go together like coke and mentos.\")\n",
    "elif (score >= 40) and (score <= 50):\n",
    "  print(f\"Your score is {score}, you are alright together.\")\n",
    "else:\n",
    "  print(f\"Your score is {score}.\")\n",
    "\n",
    "\n",
    "\n",
    "\n",
    "\n",
    "\n",
    "\n",
    "\n",
    "\n",
    "\n",
    "\n"
   ]
  },
  {
   "cell_type": "code",
   "execution_count": null,
   "id": "2b134077",
   "metadata": {},
   "outputs": [],
   "source": [
    "#treasure hunt\n",
    "print('''\n",
    "*******************************************************************************\n",
    "          |                   |                  |                     |\n",
    " _________|________________.=\"\"_;=.______________|_____________________|_______\n",
    "|                   |  ,-\"_,=\"\"     `\"=.|                  |\n",
    "|___________________|__\"=._o`\"-._        `\"=.______________|___________________\n",
    "          |                `\"=._o`\"=._      _`\"=._                     |\n",
    " _________|_____________________:=._o \"=._.\"_.-=\"'\"=.__________________|_______\n",
    "|                   |    __.--\" , ; `\"=._o.\" ,-\"\"\"-._ \".   |\n",
    "|___________________|_._\"  ,. .` ` `` ,  `\"-._\"-._   \". '__|___________________\n",
    "          |           |o`\"=._` , \"` `; .\". ,  \"-._\"-._; ;              |\n",
    " _________|___________| ;`-.o`\"=._; .\" ` '`.\"\\` . \"-._ /_______________|_______\n",
    "|                   | |o;    `\"-.o`\"=._``  '` \" ,__.--o;   |\n",
    "|___________________|_| ;     (#) `-.o `\"=.`_.--\"_o.-; ;___|___________________\n",
    "____/______/______/___|o;._    \"      `\".o|o_.--\"    ;o;____/______/______/____\n",
    "/______/______/______/_\"=._o--._        ; | ;        ; ;/______/______/______/_\n",
    "____/______/______/______/__\"=._o--._   ;o|o;     _._;o;____/______/______/____\n",
    "/______/______/______/______/____\"=._o._; | ;_.--\"o.--\"_/______/______/______/_\n",
    "____/______/______/______/______/_____\"=.o|o_.--\"\"___/______/______/______/____\n",
    "/______/______/______/______/______/______/______/______/______/______/_____ /\n",
    "*******************************************************************************\n",
    "''')\n",
    "print(\"Welcome to Treasure Island.\")\n",
    "print(\"Your mission is to find the treasure.\")\n",
    "choice1 = input('You\\'re at a cross road. Where do you want to go? Type \"left\" or \"right\" \\n').lower()\n",
    "if choice1 == \"left\":\n",
    "  choice2 = input('You\\'ve come to a lake. There is an island in the middle of the lake. Type \"wait\" to wait for a boat. Type \"swim\" to swim across. \\n').lower()\n",
    "  if choice2 == \"wait\":\n",
    "    choice3 = input(\"You arrive at the island unharmed. There is a house with 3 doors. One red, one yellow and one blue. Which colour do you choose? \\n\").lower()\n",
    "    if choice3 == \"red\":\n",
    "      print(\"It's a room full of fire. Game Over.\")\n",
    "    elif choice3 == \"yellow\":\n",
    "      print(\"You found the treasure! You Win!\")\n",
    "    elif choice3 == \"blue\":\n",
    "      print(\"You enter a room of beasts. Game Over.\")\n",
    "    else:\n",
    "      print(\"You chose a door that doesn't exist. Game Over.\")\n",
    "  else:\n",
    "    print(\"You get attacked by an angry trout. Game Over.\")\n",
    "else:\n",
    "  print(\"You fell into a hole. Game Over.\")"
   ]
  },
  {
   "cell_type": "code",
   "execution_count": null,
   "id": "0470de30",
   "metadata": {},
   "outputs": [],
   "source": []
  },
  {
   "cell_type": "code",
   "execution_count": null,
   "id": "04d517a2",
   "metadata": {},
   "outputs": [],
   "source": []
  }
 ],
 "metadata": {
  "kernelspec": {
   "display_name": "Python 3",
   "language": "python",
   "name": "python3"
  },
  "language_info": {
   "codemirror_mode": {
    "name": "ipython",
    "version": 3
   },
   "file_extension": ".py",
   "mimetype": "text/x-python",
   "name": "python",
   "nbconvert_exporter": "python",
   "pygments_lexer": "ipython3",
   "version": "3.8.8"
  }
 },
 "nbformat": 4,
 "nbformat_minor": 5
}
